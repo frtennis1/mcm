{
 "cells": [
  {
   "cell_type": "code",
   "execution_count": 27,
   "metadata": {
    "collapsed": true
   },
   "outputs": [],
   "source": [
    "import numpy as np\n",
    "import matplotlib.pyplot as plt\n",
    "import pandas as pd\n",
    "import seaborn as sns\n",
    "import datetime\n",
    "\n",
    "%matplotlib inline"
   ]
  },
  {
   "cell_type": "code",
   "execution_count": null,
   "metadata": {
    "collapsed": true
   },
   "outputs": [],
   "source": [
    "class Person(object):\n",
    "    id_num = 0\n",
    "    times = []\n",
    "    \n",
    "    def __init__(self, num):\n",
    "        self.id_num = num\n",
    "        \n",
    "    def add_time(self, time):\n",
    "        times.append(times)\n",
    "    \n",
    "    def get_total_time(self):\n",
    "        return sum(self.times)\n",
    "\n",
    "class Service(object):\n",
    "    people = []\n",
    "    n = 1\n",
    "    lines = []\n",
    "    \n",
    "    def __init__(self, n, processing_time, *args, **kwargs):\n",
    "        self.n = n\n",
    "        def process_time():\n",
    "            return processing_time(*args, **kwargs)\n",
    "        self.process_time = process_time\n",
    "        self.lines = [[] for i in range(n)]\n",
    "    \n",
    "    def get_line(self, person):\n",
    "        for i,l in enumerate(self.lines):\n",
    "            if person == l[0]: return i\n",
    "        for i,l in enumerate(self.lines):\n",
    "            if person in l: return i\n",
    "        return None\n",
    "    \n",
    "    def get_shortest_line(self):\n",
    "        shortest, length = 0, np.infty\n",
    "        for i, l in enumerate(lines):\n",
    "            if len(l) < length:\n",
    "                shortest, length = i, len(l)\n",
    "        return shortest, length\n",
    "\n",
    "    def finish_processing(self, person):\n",
    "        l = self.get_line(person)\n",
    "        assert(l[0] == person)\n",
    "        l.pop(0)\n",
    "        # insert a callback into the timeline for the next person\n",
    "    \n",
    "    def add_person(self, person):\n",
    "        line, length = self.get_shortest_line()\n",
    "        self.lines[shortest].append(person)\n",
    "        \n",
    "        if length == 0:\n",
    "            # insert a callback into the timeline for their completion"
   ]
  },
  {
   "cell_type": "code",
   "execution_count": null,
   "metadata": {
    "collapsed": true
   },
   "outputs": [],
   "source": [
    "class TimeLine(object):\n",
    "    people = set()\n",
    "    done_people = []\n",
    "    events = []\n",
    "    now = datetime.datetime(2017, 1, 12, 9)\n",
    "    start = datetime.datetime(2017,12,9)\n",
    "    end = datetime.datetime(2017,12,9)\n",
    "    finished = False\n",
    "    \n",
    "    fountain = None;\n",
    "    \n",
    "    # list of services\n",
    "    services = []\n",
    "    \n",
    "    def __init__(self, start, end):\n",
    "        self.start = start\n",
    "        self.end = end\n",
    "    \n",
    "    def add_service(self, service):\n",
    "        services.append(service)\n",
    "    \n",
    "    def get_next_service(self, service):\n",
    "        i = self.services.index(service) + 1\n",
    "        if i == len(self.services):\n",
    "            return None\n",
    "        else:\n",
    "            return services[i]\n",
    "        \n",
    "    def person_done(self, person):\n",
    "        self.done_people.append(person)\n",
    "    \n",
    "    def add_event(self, delay, f, )\n",
    "        "
   ]
  },
  {
   "cell_type": "code",
   "execution_count": null,
   "metadata": {
    "collapsed": true
   },
   "outputs": [],
   "source": [
    "class MarkovFountain(object):\n",
    "    \n",
    "    def interArrival"
   ]
  },
  {
   "cell_type": "code",
   "execution_count": 32,
   "metadata": {
    "collapsed": false
   },
   "outputs": [
    {
     "data": {
      "text/plain": [
       "False"
      ]
     },
     "execution_count": 32,
     "metadata": {},
     "output_type": "execute_result"
    }
   ],
   "source": [
    "0 > np.infty"
   ]
  },
  {
   "cell_type": "code",
   "execution_count": 13,
   "metadata": {
    "collapsed": false
   },
   "outputs": [],
   "source": [
    "day_beginning = datetime.datetime(2017,1,13,9)\n",
    "day_end = datetime.datetime(2017,1,13,18)\n",
    "\n",
    "t = TimeLine(day_beginning, day_end)"
   ]
  },
  {
   "cell_type": "code",
   "execution_count": 8,
   "metadata": {
    "collapsed": false
   },
   "outputs": [
    {
     "data": {
      "text/plain": [
       "datetime.datetime(2017, 1, 13, 9, 0)"
      ]
     },
     "execution_count": 8,
     "metadata": {},
     "output_type": "execute_result"
    }
   ],
   "source": [
    "day_beginning"
   ]
  },
  {
   "cell_type": "code",
   "execution_count": 9,
   "metadata": {
    "collapsed": false
   },
   "outputs": [
    {
     "name": "stdout",
     "output_type": "stream",
     "text": [
      "2017-01-13 09:00:00\n"
     ]
    }
   ],
   "source": [
    "print day_beginning"
   ]
  },
  {
   "cell_type": "code",
   "execution_count": 15,
   "metadata": {
    "collapsed": false
   },
   "outputs": [
    {
     "name": "stdout",
     "output_type": "stream",
     "text": [
      "2017-01-13 09:00:00\n"
     ]
    }
   ],
   "source": [
    "print t.start"
   ]
  },
  {
   "cell_type": "code",
   "execution_count": 39,
   "metadata": {
    "collapsed": false
   },
   "outputs": [
    {
     "name": "stdout",
     "output_type": "stream",
     "text": [
      "0:00:01.500000\n"
     ]
    }
   ],
   "source": [
    "print datetime.timedelta(seconds=1.5)"
   ]
  },
  {
   "cell_type": "code",
   "execution_count": 40,
   "metadata": {
    "collapsed": true
   },
   "outputs": [],
   "source": [
    "lst = [2, 3, 4]"
   ]
  },
  {
   "cell_type": "code",
   "execution_count": 44,
   "metadata": {
    "collapsed": false
   },
   "outputs": [
    {
     "ename": "ValueError",
     "evalue": "5 is not in list",
     "output_type": "error",
     "traceback": [
      "\u001b[0;31m---------------------------------------------------------------------------\u001b[0m",
      "\u001b[0;31mValueError\u001b[0m                                Traceback (most recent call last)",
      "\u001b[0;32m<ipython-input-44-d6d942791a56>\u001b[0m in \u001b[0;36m<module>\u001b[0;34m()\u001b[0m\n\u001b[0;32m----> 1\u001b[0;31m \u001b[0mlst\u001b[0m\u001b[0;34m.\u001b[0m\u001b[0mindex\u001b[0m\u001b[0;34m(\u001b[0m\u001b[0;36m5\u001b[0m\u001b[0;34m)\u001b[0m\u001b[0;34m\u001b[0m\u001b[0m\n\u001b[0m",
      "\u001b[0;31mValueError\u001b[0m: 5 is not in list"
     ]
    }
   ],
   "source": [
    "lst.index(5)"
   ]
  },
  {
   "cell_type": "code",
   "execution_count": null,
   "metadata": {
    "collapsed": true
   },
   "outputs": [],
   "source": []
  }
 ],
 "metadata": {
  "kernelspec": {
   "display_name": "Python 2",
   "language": "python",
   "name": "python2"
  },
  "language_info": {
   "codemirror_mode": {
    "name": "ipython",
    "version": 2
   },
   "file_extension": ".py",
   "mimetype": "text/x-python",
   "name": "python",
   "nbconvert_exporter": "python",
   "pygments_lexer": "ipython2",
   "version": "2.7.12"
  }
 },
 "nbformat": 4,
 "nbformat_minor": 0
}
